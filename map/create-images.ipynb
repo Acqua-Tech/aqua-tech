{
 "cells": [
  {
   "cell_type": "code",
   "execution_count": null,
   "metadata": {},
   "outputs": [],
   "source": [
    "import cairosvg\n",
    "import re\n",
    "from PIL import Image"
   ]
  },
  {
   "cell_type": "code",
   "execution_count": null,
   "metadata": {},
   "outputs": [],
   "source": [
    "def convert_svg_to_png_with_color_change(input_svg_file, output_png_file, new_color):\n",
    "    output_png_file = output_png_file.replace('svg', 'png')\n",
    "    try:\n",
    "        # Change the color in the SVG file\n",
    "        with open(input_svg_file, 'r') as f:\n",
    "            svg_data = f.read()\n",
    "\n",
    "        # Replace the fill color with the new color\n",
    "        new_svg_data = re.sub(\n",
    "            r'#000000',  # Replace with the old color you want to change\n",
    "            f'{new_color}',\n",
    "            svg_data\n",
    "        )\n",
    "\n",
    "        # Convert the modified SVG to PNG using cairosvg\n",
    "        cairosvg.svg2png(bytestring=new_svg_data, write_to=output_png_file)\n",
    "\n",
    "        print(f\"SVG converted to PNG and color changed to {new_color}.\")\n",
    "    except Exception as e:\n",
    "        print(f\"Error: {e}\")"
   ]
  },
  {
   "cell_type": "code",
   "execution_count": null,
   "metadata": {},
   "outputs": [],
   "source": [
    "colors = ['#581845', '#C70039', '#FF5733', '#FFC300']\n",
    "dangers = ['PEX', 'CR', 'EN', 'VU']\n",
    "\n",
    "for svg_file_path in os.listdir('images'):\n",
    "    for color, danger in zip(colors, dangers):\n",
    "        convert_svg_to_png_with_color_change(f'images/{svg_file_path}', f'images/test/{danger}-{svg_file_path}', color)"
   ]
  }
 ],
 "metadata": {
  "kernelspec": {
   "display_name": "Python 3",
   "language": "python",
   "name": "python3"
  },
  "language_info": {
   "name": "python",
   "version": "3.11.5"
  }
 },
 "nbformat": 4,
 "nbformat_minor": 2
}
