{
 "cells": [
  {
   "cell_type": "code",
   "execution_count": 13,
   "metadata": {},
   "outputs": [],
   "source": [
    "import pandas as pd\n",
    "import folium"
   ]
  },
  {
   "cell_type": "code",
   "execution_count": 58,
   "metadata": {},
   "outputs": [],
   "source": [
    "df = pd.read_csv('data/df_translated.csv')"
   ]
  },
  {
   "cell_type": "code",
   "execution_count": 68,
   "metadata": {},
   "outputs": [
    {
     "data": {
      "text/plain": [
       "array(['Vulnerable (VU)', 'Critically Endangered (CR)', 'Endangered (EN)',\n",
       "       'Critically Endangered (CR)/Possibly Extinct (PEX)'], dtype=object)"
      ]
     },
     "execution_count": 68,
     "metadata": {},
     "output_type": "execute_result"
    }
   ],
   "source": [
    "df['threat_category'].unique()\n",
    "\n",
    "'Vulnerable (VU)' (Vulnerável): Amarelo\n",
    "'Critically Endangered (CR)' (Criticamente em Perigo): Vermelho\n",
    "'Endangered (EN)' (Em Perigo): Laranja\n",
    "'Critically Endangered (CR)/Possibly Extinct (PEX)' (Criticamente em Perigo/Possivelmente Extinto): Vermelho"
   ]
  },
  {
   "cell_type": "code",
   "execution_count": 67,
   "metadata": {},
   "outputs": [
    {
     "data": {
      "text/html": [
       "<div style=\"width:100%;\"><div style=\"position:relative;width:100%;height:0;padding-bottom:60%;\"><span style=\"color:#565656\">Make this Notebook Trusted to load map: File -> Trust Notebook</span><iframe srcdoc=\"&lt;!DOCTYPE html&gt;\n",
       "&lt;html&gt;\n",
       "&lt;head&gt;\n",
       "    \n",
       "    &lt;meta http-equiv=&quot;content-type&quot; content=&quot;text/html; charset=UTF-8&quot; /&gt;\n",
       "    \n",
       "        &lt;script&gt;\n",
       "            L_NO_TOUCH = false;\n",
       "            L_DISABLE_3D = false;\n",
       "        &lt;/script&gt;\n",
       "    \n",
       "    &lt;style&gt;html, body {width: 100%;height: 100%;margin: 0;padding: 0;}&lt;/style&gt;\n",
       "    &lt;style&gt;#map {position:absolute;top:0;bottom:0;right:0;left:0;}&lt;/style&gt;\n",
       "    &lt;script src=&quot;https://cdn.jsdelivr.net/npm/leaflet@1.9.3/dist/leaflet.js&quot;&gt;&lt;/script&gt;\n",
       "    &lt;script src=&quot;https://code.jquery.com/jquery-1.12.4.min.js&quot;&gt;&lt;/script&gt;\n",
       "    &lt;script src=&quot;https://cdn.jsdelivr.net/npm/bootstrap@5.2.2/dist/js/bootstrap.bundle.min.js&quot;&gt;&lt;/script&gt;\n",
       "    &lt;script src=&quot;https://cdnjs.cloudflare.com/ajax/libs/Leaflet.awesome-markers/2.0.2/leaflet.awesome-markers.js&quot;&gt;&lt;/script&gt;\n",
       "    &lt;link rel=&quot;stylesheet&quot; href=&quot;https://cdn.jsdelivr.net/npm/leaflet@1.9.3/dist/leaflet.css&quot;/&gt;\n",
       "    &lt;link rel=&quot;stylesheet&quot; href=&quot;https://cdn.jsdelivr.net/npm/bootstrap@5.2.2/dist/css/bootstrap.min.css&quot;/&gt;\n",
       "    &lt;link rel=&quot;stylesheet&quot; href=&quot;https://netdna.bootstrapcdn.com/bootstrap/3.0.0/css/bootstrap.min.css&quot;/&gt;\n",
       "    &lt;link rel=&quot;stylesheet&quot; href=&quot;https://cdn.jsdelivr.net/npm/@fortawesome/fontawesome-free@6.2.0/css/all.min.css&quot;/&gt;\n",
       "    &lt;link rel=&quot;stylesheet&quot; href=&quot;https://cdnjs.cloudflare.com/ajax/libs/Leaflet.awesome-markers/2.0.2/leaflet.awesome-markers.css&quot;/&gt;\n",
       "    &lt;link rel=&quot;stylesheet&quot; href=&quot;https://cdn.jsdelivr.net/gh/python-visualization/folium/folium/templates/leaflet.awesome.rotate.min.css&quot;/&gt;\n",
       "    \n",
       "            &lt;meta name=&quot;viewport&quot; content=&quot;width=device-width,\n",
       "                initial-scale=1.0, maximum-scale=1.0, user-scalable=no&quot; /&gt;\n",
       "            &lt;style&gt;\n",
       "                #map_f456506ac99fbf8289114116d1d8ad9f {\n",
       "                    position: relative;\n",
       "                    width: 100.0%;\n",
       "                    height: 100.0%;\n",
       "                    left: 0.0%;\n",
       "                    top: 0.0%;\n",
       "                }\n",
       "                .leaflet-container { font-size: 1rem; }\n",
       "            &lt;/style&gt;\n",
       "        \n",
       "&lt;/head&gt;\n",
       "&lt;body&gt;\n",
       "    \n",
       "    \n",
       "            &lt;div class=&quot;folium-map&quot; id=&quot;map_f456506ac99fbf8289114116d1d8ad9f&quot; &gt;&lt;/div&gt;\n",
       "        \n",
       "&lt;/body&gt;\n",
       "&lt;script&gt;\n",
       "    \n",
       "    \n",
       "            var map_f456506ac99fbf8289114116d1d8ad9f = L.map(\n",
       "                &quot;map_f456506ac99fbf8289114116d1d8ad9f&quot;,\n",
       "                {\n",
       "                    center: [-14.235004, -51.92528],\n",
       "                    crs: L.CRS.EPSG3857,\n",
       "                    zoom: 4,\n",
       "                    zoomControl: true,\n",
       "                    preferCanvas: false,\n",
       "                }\n",
       "            );\n",
       "\n",
       "            \n",
       "\n",
       "        \n",
       "    \n",
       "            var tile_layer_fa1b71cab0a1c31b81a57950ef083a76 = L.tileLayer(\n",
       "                &quot;https://{s}.tile.openstreetmap.org/{z}/{x}/{y}.png&quot;,\n",
       "                {&quot;attribution&quot;: &quot;Data by \\u0026copy; \\u003ca target=\\&quot;_blank\\&quot; href=\\&quot;http://openstreetmap.org\\&quot;\\u003eOpenStreetMap\\u003c/a\\u003e, under \\u003ca target=\\&quot;_blank\\&quot; href=\\&quot;http://www.openstreetmap.org/copyright\\&quot;\\u003eODbL\\u003c/a\\u003e.&quot;, &quot;detectRetina&quot;: false, &quot;maxNativeZoom&quot;: 18, &quot;maxZoom&quot;: 18, &quot;minZoom&quot;: 0, &quot;noWrap&quot;: false, &quot;opacity&quot;: 1, &quot;subdomains&quot;: &quot;abc&quot;, &quot;tms&quot;: false}\n",
       "            ).addTo(map_f456506ac99fbf8289114116d1d8ad9f);\n",
       "        \n",
       "    \n",
       "            var marker_d9a77ce07b652f12d3035d554a629335 = L.marker(\n",
       "                [-15.7801, -47.9292],\n",
       "                {}\n",
       "            ).addTo(map_f456506ac99fbf8289114116d1d8ad9f);\n",
       "        \n",
       "    \n",
       "            var icon_066c465e85b179bd8bd4ed0d63a9ba16 = L.AwesomeMarkers.icon(\n",
       "                {&quot;extraClasses&quot;: &quot;fa-rotate-0&quot;, &quot;icon&quot;: &quot;info-sign&quot;, &quot;iconColor&quot;: &quot;white&quot;, &quot;markerColor&quot;: &quot;green&quot;, &quot;prefix&quot;: &quot;glyphicon&quot;}\n",
       "            );\n",
       "            marker_d9a77ce07b652f12d3035d554a629335.setIcon(icon_066c465e85b179bd8bd4ed0d63a9ba16);\n",
       "        \n",
       "    \n",
       "        var popup_6c0265b0995b2a9fbc66b55273826163 = L.popup({&quot;maxWidth&quot;: &quot;100%&quot;});\n",
       "\n",
       "        \n",
       "            \n",
       "                var html_02477dd9e01c9694d3f6fbb9d2171c2b = $(`&lt;div id=&quot;html_02477dd9e01c9694d3f6fbb9d2171c2b&quot; style=&quot;width: 100.0%; height: 100.0%;&quot;&gt;Hotel Econômico A&lt;/div&gt;`)[0];\n",
       "                popup_6c0265b0995b2a9fbc66b55273826163.setContent(html_02477dd9e01c9694d3f6fbb9d2171c2b);\n",
       "            \n",
       "        \n",
       "\n",
       "        marker_d9a77ce07b652f12d3035d554a629335.bindPopup(popup_6c0265b0995b2a9fbc66b55273826163)\n",
       "        ;\n",
       "\n",
       "        \n",
       "    \n",
       "&lt;/script&gt;\n",
       "&lt;/html&gt;\" style=\"position:absolute;width:100%;height:100%;left:0;top:0;border:none !important;\" allowfullscreen webkitallowfullscreen mozallowfullscreen></iframe></div></div>"
      ],
      "text/plain": [
       "<folium.folium.Map at 0x11efa2650>"
      ]
     },
     "execution_count": 67,
     "metadata": {},
     "output_type": "execute_result"
    }
   ],
   "source": [
    "m = folium.Map(location=[-14.235004, -51.92528], zoom_start=4)\n",
    "folium.Marker([-15.7801, -47.9292], popup='Hotel Econômico A',icon=folium.Icon(color=\"green\")).add_to(m)\n",
    "m"
   ]
  },
  {
   "cell_type": "code",
   "execution_count": null,
   "metadata": {},
   "outputs": [],
   "source": [
    "# Criar camadas principais (pais)\n",
    "m = folium.Map(location=[-14.235004, -51.92528], zoom_start=4)\n",
    "\n",
    "\n",
    "camada_pontos_interesse = folium.FeatureGroup(name='Pontos de Interesse',show=False)\n",
    "camada_hotel = folium.FeatureGroup(name='Hotéis',show=False)\n",
    "camada_restaurante = folium.FeatureGroup(name='Restaurantes',show=False)\n",
    "\n",
    "# Adicione as camadas principais (pais) ao mapa\n",
    "camada_pontos_interesse.add_to(m)\n",
    "camada_hotel.add_to(m)\n",
    "camada_restaurante.add_to(m)\n",
    "\n",
    "# Adicione camadas secundárias (filhas)\n",
    "camada_hotel_chique = folium.FeatureGroup(name='Hotéis Chiques', show=False, overlay=True)\n",
    "camada_hotel_economico = folium.FeatureGroup(name='Hotéis Econômicos', show=False,overlay=True)\n",
    "\n",
    "for i, j in df.iterrows():\n",
    "        folium.Marker(\n",
    "                location=[j['lats_longs_animals'][1], j['lats_longs_animals'][0]],\n",
    "                popup=j['Nome Comum']\n",
    "        ).add_to(camada_hotel_chique)\n",
    "\n",
    "folium.Marker([-22.9068, -43.1729], popup='Hotel de Luxo').add_to(camada_hotel_chique)\n",
    "\n",
    "# Adicione marcadores para hotéis econômicos\n",
    "folium.Marker([-15.7801, -47.9292], popup='Hotel Econômico A').add_to(camada_restaurante)\n",
    "folium.Marker([-22.9068, -43.1729], popup='Hotel Econômico B').add_to(camada_restaurante)\n",
    "\n",
    "# Adicione as camadas secundárias (filhas) às camadas principais (pais)\n",
    "camada_hotel_chique.add_to(camada_hotel)\n",
    "camada_hotel_economico.add_to(camada_hotel)\n",
    "\n",
    "# Adicione controles de camadas aninhadas (nested layer control)\n",
    "folium.LayerControl(collapsed=True).add_to(m)\n",
    "\n",
    "m"
   ]
  }
 ],
 "metadata": {
  "kernelspec": {
   "display_name": ".env",
   "language": "python",
   "name": "python3"
  },
  "language_info": {
   "codemirror_mode": {
    "name": "ipython",
    "version": 3
   },
   "file_extension": ".py",
   "mimetype": "text/x-python",
   "name": "python",
   "nbconvert_exporter": "python",
   "pygments_lexer": "ipython3",
   "version": "3.11.5"
  }
 },
 "nbformat": 4,
 "nbformat_minor": 2
}
